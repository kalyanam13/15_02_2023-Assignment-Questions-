{
 "cells": [
  {
   "cell_type": "markdown",
   "id": "83349224",
   "metadata": {},
   "source": [
    "### Question no.1: What is multiprocessing in python ? Why is it useful ?\n",
    "### Answer: Multiprocessing in Python is a way of executing multiple processes or tasks simultaneously to increase the overall performance of an application. It is a technique of using multiple CPUs or cores to run multiple processes concurrently.\n",
    "\n",
    "### Python's multiprocessing module provides a way to spawn child processes, which can be used to perform parallel processing on a multicore system. Each child process runs independently of the main process and can communicate with it through pipes and queues. The multiprocessing module also provides other features such as shared memory and locks, which make it easy to synchronize the communication between the processes.\n",
    "\n",
    "### Multiprocessing is useful in situations where a single process is not sufficient to handle the workload. By using multiprocessing, we can distribute the workload across multiple processes, each of which can execute independently. This can significantly improve the performance of an application and reduce the processing time.\n",
    "\n",
    "### For example, suppose you have a program that needs to perform a large number of CPU-bound tasks, such as image processing or data analysis. In that case, multiprocessing can help you leverage the power of multiple CPUs and reduce the processing time by dividing the workload into smaller tasks and running them in parallel.\n",
    "\n",
    "### Overall, multiprocessing in Python is a powerful tool for improving the performance of CPU-bound tasks and making better use of the available hardware resources."
   ]
  },
  {
   "cell_type": "markdown",
   "id": "909591c8",
   "metadata": {},
   "source": [
    "### Question no.2: What are the differences between multiprocessing and multithreading ?\n",
    "### Answer: Multiprocessing and multithreading are both techniques used to achieve concurrency in a program, but they differ in several ways:\n",
    "\n",
    "### 1. Execution Model: Multiprocessing creates separate processes that run independently and communicate with each other using inter-process communication (IPC) mechanisms. Multithreading creates multiple threads within the same process that share the same memory and communicate with each other using shared memory.\n",
    "\n",
    "### 2. Memory Usage: In multiprocessing, each process has its own memory space, which means that each process has a separate copy of the program's data. In contrast, multithreading shares the same memory space, which means that all threads have access to the same data.\n",
    "\n",
    "### 3. CPU Utilization: Multiprocessing can take advantage of multiple CPUs or cores to execute multiple processes simultaneously. In contrast, multithreading can only utilize a single CPU or core.\n",
    "\n",
    "### 4. Context Switching Overhead: Switching between processes in multiprocessing involves a higher overhead than switching between threads in multithreading because it requires the operating system to perform a context switch, which is a more expensive operation.\n",
    "\n",
    "### 5. Error Isolation: In multiprocessing, errors in one process do not affect the other processes. In contrast, errors in one thread can affect the entire program because all threads share the same memory.\n",
    "\n",
    "### In general, multiprocessing is more suitable for CPU-bound tasks that require intensive processing, while multithreading is more suitable for I/O-bound tasks that spend a lot of time waiting for input/output operations to complete. However, the choice between multiprocessing and multithreading ultimately depends on the specific requirements of the program and the available hardware resources."
   ]
  },
  {
   "cell_type": "markdown",
   "id": "9122d382",
   "metadata": {},
   "source": [
    "### Question no.3: Write a python code to create a process using the multiprocessing module.\n",
    "### Answer: "
   ]
  },
  {
   "cell_type": "code",
   "execution_count": 1,
   "id": "bd1ce7eb",
   "metadata": {},
   "outputs": [
    {
     "name": "stdout",
     "output_type": "stream",
     "text": [
      "Process finished.\n"
     ]
    }
   ],
   "source": [
    "import multiprocessing\n",
    "\n",
    "def my_function():\n",
    "    print(\"Starting my_function...\")\n",
    "    # Perform some CPU-bound task here\n",
    "    print(\"Finished my_function.\")\n",
    "\n",
    "if __name__ == '__main__':\n",
    "    # Create a new process\n",
    "    p = multiprocessing.Process(target=my_function)\n",
    "    # Start the process\n",
    "    p.start()\n",
    "    # Wait for the process to finish\n",
    "    p.join()\n",
    "    print(\"Process finished.\")\n"
   ]
  },
  {
   "cell_type": "markdown",
   "id": "2b817bbb",
   "metadata": {},
   "source": [
    "### Question no.4: What is a multiprocessing pool in python ? Why is it used ?\n",
    "### Answer: In Python, a multiprocessing pool is a tool for parallel processing that allows you to distribute the execution of a function across multiple CPUs or cores in a computer. It creates a pool of worker processes that can execute tasks in parallel, which can significantly speed up the execution of code that can be divided into smaller, independent tasks.\n",
    "\n",
    "### A multiprocessing pool is used to perform CPU-intensive tasks that can be divided into smaller pieces and executed in parallel. By doing so, it can utilize the full power of modern multi-core processors, which can execute multiple instructions simultaneously. This can be particularly useful for scientific computing, machine learning, data analysis, and other compute-intensive applications that involve large amounts of data.\n",
    "\n",
    "### To use a multiprocessing pool, you need to define a function that you want to execute in parallel and then create a pool of worker processes using the multiprocessing.Pool class. You can then use the map() method of the pool object to apply the function to a list of inputs. The map() method divides the list into smaller chunks and distributes the processing of each chunk among the worker processes in the pool.\n",
    "\n",
    "### Overall, a multiprocessing pool can be a very powerful tool for improving the performance of CPU-bound tasks in Python by distributing the processing workload across multiple cores."
   ]
  },
  {
   "cell_type": "markdown",
   "id": "600040a6",
   "metadata": {},
   "source": [
    "### Question no.5: How can we create a pool of worker processes in python using the multiprocessing module?\n",
    "### Answer : To create a pool of worker processes in Python using the multiprocessing module, you can follow these steps:\n",
    "\n",
    "### 1. Import the multiprocessing module:"
   ]
  },
  {
   "cell_type": "code",
   "execution_count": 1,
   "id": "228d9f5e",
   "metadata": {},
   "outputs": [],
   "source": [
    "import multiprocessing"
   ]
  },
  {
   "cell_type": "markdown",
   "id": "2fc61d56",
   "metadata": {},
   "source": [
    "### 2. Define a function that will be executed by each worker process. This function should take a single argument, which will be the input data to be processed. For example:"
   ]
  },
  {
   "cell_type": "code",
   "execution_count": 2,
   "id": "e1d5f262",
   "metadata": {},
   "outputs": [],
   "source": [
    "def process_data(data):\n",
    "    # do some processing on the data\n",
    "    return process_data"
   ]
  },
  {
   "cell_type": "markdown",
   "id": "fbe6605d",
   "metadata": {},
   "source": [
    "### 3. Create a Pool object, which will manage the worker processes. You can specify the number of worker processes to create as an argument to the Pool constructor. For example, to create a pool with 4 worker processes:"
   ]
  },
  {
   "cell_type": "code",
   "execution_count": 3,
   "id": "e546c6bf",
   "metadata": {},
   "outputs": [],
   "source": [
    "pool = multiprocessing.Pool(processes=4)"
   ]
  },
  {
   "cell_type": "markdown",
   "id": "a7292894",
   "metadata": {},
   "source": [
    "### 4. Use the apply_async method of the Pool object to submit processing tasks to the worker processes. This method takes two arguments: the function to be executed by the worker processes, and the input data for that function. For example:"
   ]
  },
  {
   "cell_type": "code",
   "execution_count": null,
   "id": "a0ddf23f",
   "metadata": {},
   "outputs": [],
   "source": [
    "result = pool.apply_async(process_data, (input_data,))\n"
   ]
  },
  {
   "cell_type": "markdown",
   "id": "ca9eb218",
   "metadata": {},
   "source": [
    "### 5. Use the get method of the result object returned by apply_async to retrieve the processed data from the worker process. For example:"
   ]
  },
  {
   "cell_type": "code",
   "execution_count": null,
   "id": "b4b6f187",
   "metadata": {},
   "outputs": [],
   "source": [
    "process_data = result.get()"
   ]
  },
  {
   "cell_type": "markdown",
   "id": "90d31c50",
   "metadata": {},
   "source": [
    "### 6. Repeat steps 4 and 5 as needed to process all of your input data.\n",
    "\n",
    "### 7. When you are finished processing data, call the close method of the Pool object to indicate that no more tasks will be submitted. Then call the join method to wait for all worker processes to complete. For example:"
   ]
  },
  {
   "cell_type": "code",
   "execution_count": null,
   "id": "533f9faf",
   "metadata": {},
   "outputs": [],
   "source": [
    "pool.close()\n",
    "pool.join()"
   ]
  },
  {
   "cell_type": "markdown",
   "id": "a785f840",
   "metadata": {},
   "source": [
    "### Here's an example code snippet that demonstrates these steps:"
   ]
  },
  {
   "cell_type": "code",
   "execution_count": null,
   "id": "78c6efbd",
   "metadata": {},
   "outputs": [],
   "source": [
    "import multiprocessing\n",
    "\n",
    "def process_data(data):\n",
    "    processed_data = [x**2 for x in data]\n",
    "    return processed_data\n",
    "\n",
    "if __name__ == '__main__':\n",
    "    input_data = [[1], [2], [3], [4], [5], [6], [7], [8], [9]]  # Wrap each integer inside a list\n",
    "    pool = multiprocessing.Pool(processes=4)\n",
    "    results = []\n",
    "    for data in input_data:\n",
    "        result = pool.apply_async(process_data, (data,))\n",
    "        results.append(result)\n",
    "    pool.close()\n",
    "    pool.join()\n",
    "    processed_data = [result.get() for result in results]\n",
    "    print(processed_data)"
   ]
  },
  {
   "cell_type": "markdown",
   "id": "cb2e48e2",
   "metadata": {},
   "source": [
    "### Question no.6: Write a python program to create 4 processes , each process should print a different number using the multiprocessing module in python.\n",
    "### Answer: Here is a Python program that creates 4 processes and each process prints a different number using the multiprocessing module:"
   ]
  },
  {
   "cell_type": "code",
   "execution_count": 4,
   "id": "5e92bee0",
   "metadata": {},
   "outputs": [],
   "source": [
    "import multiprocessing\n",
    "\n",
    "def print_number(number):\n",
    "    print(number)\n",
    "    \n",
    "if __name__==\"__main__\":\n",
    "    processes = []\n",
    "    for i in range(4):\n",
    "        process = multiprocessing.Process( target = print_number , args = (i,) )\n",
    "        processes.append(process)\n",
    "        process.start()\n",
    "        \n",
    "    for process in processes:\n",
    "        process.join()"
   ]
  },
  {
   "cell_type": "markdown",
   "id": "9e825d51",
   "metadata": {},
   "source": [
    "### In this program, we define a function print_number that takes a number as an argument and prints it.\n",
    "\n",
    "### In the __main__ section, we create a list of processes and loop through it four times. For each iteration, we create a new Process object with the target function print_number and the argument i (which is the current loop index). We append this process to the list and start it.\n",
    "\n",
    "### After creating all the processes, we loop through the list again and call the join method on each process to wait for it to complete before exiting the program.\n",
    "\n",
    "### When you run this program, it will create four processes and each process will print a different number from 0 to 3. The order in which the numbers are printed may vary because the processes run independently and concurrently."
   ]
  },
  {
   "cell_type": "code",
   "execution_count": null,
   "id": "a6ba6bbf",
   "metadata": {},
   "outputs": [],
   "source": []
  },
  {
   "cell_type": "code",
   "execution_count": null,
   "id": "6c7e4ff2",
   "metadata": {},
   "outputs": [],
   "source": []
  },
  {
   "cell_type": "code",
   "execution_count": null,
   "id": "58577fc3",
   "metadata": {},
   "outputs": [],
   "source": []
  }
 ],
 "metadata": {
  "kernelspec": {
   "display_name": "Python 3 (ipykernel)",
   "language": "python",
   "name": "python3"
  },
  "language_info": {
   "codemirror_mode": {
    "name": "ipython",
    "version": 3
   },
   "file_extension": ".py",
   "mimetype": "text/x-python",
   "name": "python",
   "nbconvert_exporter": "python",
   "pygments_lexer": "ipython3",
   "version": "3.9.13"
  }
 },
 "nbformat": 4,
 "nbformat_minor": 5
}
